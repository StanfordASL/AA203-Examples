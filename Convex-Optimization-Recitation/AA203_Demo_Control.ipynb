{
 "cells": [
  {
   "cell_type": "code",
   "execution_count": 1,
   "metadata": {},
   "outputs": [],
   "source": [
    "import numpy as np\n",
    "from cvxopt import matrix, solvers"
   ]
  },
  {
   "cell_type": "markdown",
   "metadata": {},
   "source": [
    "Dynamics of the form $$x_{t+1} = A_t x_t + B_t u_t$$\n",
    "with $$\\|u_t\\|_\\infty \\leq u_{max},\\,\\, t=1,\\ldots,T$$\n",
    "and stage-wise cost $$c(x_t,u_t) = x_t^T Q_t x_t$$"
   ]
  },
  {
   "cell_type": "code",
   "execution_count": 3,
   "metadata": {},
   "outputs": [],
   "source": [
    "T = 40\n",
    "state_dim = 4\n",
    "ac_dim = 2\n",
    "control_limit = 10.\n",
    "dt = 0.1\n",
    "\n",
    "Q = np.diag([1.,1.,0.2,0.2])\n",
    "\n",
    "x0 = np.ones((4,1))\n",
    "x0[0,0] = 5.\n",
    "\n",
    "# double integrator dynamics\n",
    "A = np.eye(4)\n",
    "A[0,2] = dt\n",
    "A[1,3] = dt\n",
    "\n",
    "B = np.zeros((4,2))\n",
    "B[2,0] = dt\n",
    "B[3,1] = dt\n",
    "\n",
    "# add some random stuff to the dynamics\n",
    "A = A + np.random.randn(4,4)*0.1\n",
    "\n",
    "\n",
    "# build state matrices\n",
    "A_block = np.zeros((state_dim*(T+1),ac_dim*T))\n",
    "for t in range(T+1):\n",
    "    for k in range(t):\n",
    "        A_block[state_dim*t:state_dim*(t+1), ac_dim*k:ac_dim*(k+1)] = np.linalg.matrix_power(A,t-k-1) @ B\n",
    "\n",
    "# build offset matrix\n",
    "c = np.zeros((state_dim*(T+1),1))\n",
    "for t in range(T+1):\n",
    "    c[state_dim*t:state_dim*(t+1)] = np.linalg.matrix_power(A,t) @ x0\n",
    "    \n",
    "Q_block = np.zeros((state_dim*(T+1), state_dim*(T+1)))#matrix(0.,(state_dim*T, state_dim*T))\n",
    "for t in range(T+1):\n",
    "    Q_block[state_dim*t:state_dim*(t+1),state_dim*t:state_dim*(t+1)] = Q\n",
    "    \n",
    "# build constraint matrix\n",
    "G = np.zeros((T*ac_dim*2,T*ac_dim))\n",
    "h = np.ones((T*ac_dim*2))*control_limit\n",
    "\n",
    "for t in range(T):\n",
    "    G[t*ac_dim:(t+1)*ac_dim,t*ac_dim:(t+1)*ac_dim] = np.eye(ac_dim)\n",
    "    G[(T+t)*ac_dim:(T+t+1)*ac_dim,(t)*ac_dim:(t+1)*ac_dim] = -np.eye(ac_dim)\n",
    "    "
   ]
  },
  {
   "cell_type": "markdown",
   "metadata": {},
   "source": [
    "# CVXOPT"
   ]
  },
  {
   "cell_type": "code",
   "execution_count": 4,
   "metadata": {},
   "outputs": [],
   "source": [
    "quad_cost = matrix(A_block.T @ Q_block @ A_block)\n",
    "linear_cost = matrix((c.T @ Q_block @ A_block).T)\n",
    "const_cost = c.T @ Q_block @ c\n",
    "\n",
    "G_mat = matrix(G)\n",
    "h_mat = matrix(h)"
   ]
  },
  {
   "cell_type": "code",
   "execution_count": 5,
   "metadata": {},
   "outputs": [],
   "source": [
    "hmat2 = matrix(control_limit, (T*ac_dim,1))"
   ]
  },
  {
   "cell_type": "code",
   "execution_count": 6,
   "metadata": {},
   "outputs": [
    {
     "name": "stdout",
     "output_type": "stream",
     "text": [
      "     pcost       dcost       gap    pres   dres\n",
      " 0: -5.1223e+01 -3.2760e+03  3e+03  5e-17  7e-16\n",
      " 1: -9.3013e+01 -4.5137e+02  4e+02  2e-16  3e-16\n",
      " 2: -1.0566e+02 -1.3871e+02  3e+01  2e-16  3e-16\n",
      " 3: -1.0869e+02 -1.1242e+02  4e+00  2e-16  2e-16\n",
      " 4: -1.0919e+02 -1.0962e+02  4e-01  2e-16  2e-16\n",
      " 5: -1.0928e+02 -1.0933e+02  6e-02  2e-16  2e-16\n",
      " 6: -1.0929e+02 -1.0929e+02  3e-03  2e-16  2e-16\n",
      " 7: -1.0929e+02 -1.0929e+02  6e-05  2e-16  3e-16\n",
      "Optimal solution found.\n"
     ]
    }
   ],
   "source": [
    "sol = solvers.qp(quad_cost, linear_cost, G_mat, h_mat)"
   ]
  },
  {
   "cell_type": "code",
   "execution_count": 7,
   "metadata": {},
   "outputs": [
    {
     "data": {
      "text/plain": [
       "{'dual infeasibility': 3.1371870382943995e-16,\n",
       " 'dual objective': -109.29294309452632,\n",
       " 'dual slack': 5.0704166143211265e-09,\n",
       " 'gap': 6.131896440654007e-05,\n",
       " 'iterations': 7,\n",
       " 'primal infeasibility': 1.87835011159719e-16,\n",
       " 'primal objective': -109.29288177556191,\n",
       " 'primal slack': 7.750948185816995e-07,\n",
       " 'relative gap': 5.610517666874359e-07,\n",
       " 's': <160x1 matrix, tc='d'>,\n",
       " 'status': 'optimal',\n",
       " 'x': <80x1 matrix, tc='d'>,\n",
       " 'y': <0x1 matrix, tc='d'>,\n",
       " 'z': <160x1 matrix, tc='d'>}"
      ]
     },
     "execution_count": 7,
     "metadata": {},
     "output_type": "execute_result"
    }
   ],
   "source": [
    "sol"
   ]
  },
  {
   "cell_type": "code",
   "execution_count": 10,
   "metadata": {},
   "outputs": [
    {
     "data": {
      "image/png": "[encoded data removed]",
      "text/plain": [
       "<Figure size 432x288 with 1 Axes>"
      ]
     },
     "metadata": {
      "needs_background": "light"
     },
     "output_type": "display_data"
    }
   ],
   "source": [
    "# viz system\n",
    "import matplotlib.pyplot as plt\n",
    "\n",
    "x = np.zeros((state_dim,T+1))\n",
    "x[:,0:1] = x0\n",
    "\n",
    "u = np.zeros((ac_dim,T))\n",
    "\n",
    "for t in range(T):\n",
    "    u0 = sol['x'][ac_dim*t]\n",
    "    u1 = sol['x'][ac_dim*t+1]\n",
    "    u[:,t] = np.array([u0, u1])\n",
    "    x[:,(t+1):(t+2)] = A @ x[:,t:(t+1)] + B @ u[:,t:t+1]\n",
    "    \n",
    "plt.plot(x[0,:],x[1,:])\n",
    "plt.plot(x[0,-1],x[1,-1],marker='o',color='r',markersize=12)\n",
    "plt.show()"
   ]
  },
  {
   "cell_type": "code",
   "execution_count": 9,
   "metadata": {},
   "outputs": [
    {
     "data": {
      "image/png": "[encoded data removed]",
      "text/plain": [
       "<Figure size 432x288 with 1 Axes>"
      ]
     },
     "metadata": {
      "needs_background": "light"
     },
     "output_type": "display_data"
    }
   ],
   "source": [
    "plt.plot(np.linspace(0,T-1,T),u[0,:])\n",
    "plt.plot(np.linspace(0,T-1,T),u[1,:])\n",
    "plt.legend(['u0','u1'])\n",
    "plt.show()"
   ]
  },
  {
   "cell_type": "markdown",
   "metadata": {},
   "source": [
    "# CVXPY"
   ]
  },
  {
   "cell_type": "markdown",
   "metadata": {},
   "source": [
    "We will now replace our control constraint with $$\\|u_t\\|_2 \\leq u_{max},\\,\\, t=1,\\ldots,T$$\n",
    "which gives us a quadratically-constrained quadratic program (QCQP)"
   ]
  },
  {
   "cell_type": "code",
   "execution_count": 11,
   "metadata": {},
   "outputs": [
    {
     "data": {
      "text/plain": [
       "-110.2392170087437"
      ]
     },
     "execution_count": 11,
     "metadata": {},
     "output_type": "execute_result"
    }
   ],
   "source": [
    "import cvxpy as cp\n",
    "u = cp.Variable(ac_dim*T)\n",
    "cost = cp.quad_form(u,0.5*A_block.T @ Q_block @ A_block) + cp.sum((c.T @ Q_block @ A_block) @ u)\n",
    "objective = cp.Minimize(cost)\n",
    "constraints = []\n",
    "for t in range(T):\n",
    "    constraints.append(cp.norm(u[ac_dim*t:ac_dim*(t+1)],2)<=control_limit*np.sqrt(2))\n",
    "prob = cp.Problem(objective,constraints)\n",
    "prob.solve()"
   ]
  },
  {
   "cell_type": "code",
   "execution_count": 12,
   "metadata": {},
   "outputs": [
    {
     "data": {
      "image/png": "[encoded data removed]",
      "text/plain": [
       "<Figure size 432x288 with 1 Axes>"
      ]
     },
     "metadata": {
      "needs_background": "light"
     },
     "output_type": "display_data"
    }
   ],
   "source": [
    "x = np.zeros((state_dim,T+1))\n",
    "x[:,0:1] = x0\n",
    "\n",
    "umat = np.zeros((ac_dim,T))\n",
    "\n",
    "for t in range(T):\n",
    "    u0 = u.value[ac_dim*t]\n",
    "    u1 = u.value[ac_dim*t+1]\n",
    "    umat[:,t] = np.array([u0, u1])\n",
    "    x[:,(t+1):(t+2)] = A @ x[:,t:(t+1)] + B @ umat[:,t:t+1]\n",
    "    \n",
    "plt.plot(x[0,:],x[1,:])\n",
    "plt.plot(x[0,-1],x[1,-1],marker='o',color='r',markersize=12)\n",
    "plt.show()"
   ]
  },
  {
   "cell_type": "code",
   "execution_count": 13,
   "metadata": {},
   "outputs": [
    {
     "data": {
      "image/png": "[encoded data removed]",
      "text/plain": [
       "<Figure size 432x288 with 1 Axes>"
      ]
     },
     "metadata": {
      "needs_background": "light"
     },
     "output_type": "display_data"
    }
   ],
   "source": [
    "plt.plot(np.linspace(0,T-1,T),np.sqrt(umat[0,:]**2 + umat[1,:]**2))\n",
    "plt.legend(['norm(u)'])\n",
    "plt.show()"
   ]
  },
  {
   "cell_type": "code",
   "execution_count": 14,
   "metadata": {},
   "outputs": [
    {
     "data": {
      "image/png": "[encoded data removed]",
      "text/plain": [
       "<Figure size 432x288 with 1 Axes>"
      ]
     },
     "metadata": {
      "needs_background": "light"
     },
     "output_type": "display_data"
    }
   ],
   "source": [
    "plt.plot(np.linspace(0,T-1,T),umat[0,:])\n",
    "plt.plot(np.linspace(0,T-1,T),umat[1,:])\n",
    "plt.legend(['u0','u1'])\n",
    "plt.show()"
   ]
  },
  {
   "cell_type": "code",
   "execution_count": null,
   "metadata": {},
   "outputs": [],
   "source": []
  }
 ],
 "metadata": {
  "kernelspec": {
   "display_name": "Python 3",
   "language": "python",
   "name": "python3"
  },
  "language_info": {
   "codemirror_mode": {
    "name": "ipython",
    "version": 3
   },
   "file_extension": ".py",
   "mimetype": "text/x-python",
   "name": "python",
   "nbconvert_exporter": "python",
   "pygments_lexer": "ipython3",
   "version": "3.5.2"
  }
 },
 "nbformat": 4,
 "nbformat_minor": 2
}
