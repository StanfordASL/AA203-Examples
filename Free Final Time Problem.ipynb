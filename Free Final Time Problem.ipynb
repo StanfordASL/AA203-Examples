{
 "cells": [
  {
   "cell_type": "markdown",
   "id": "e683bd95",
   "metadata": {},
   "source": [
    "# Setup\n",
    "\n",
    "Dependencies:\n",
    "- System: python3\n",
    "- Python: jupyter, numpy, scipy, jax, matplotlib\n",
    "\n",
    "Example setup for a Ubuntu system (Mac users, maybe `brew` instead of `sudo apt`; Windows users, learn to love [WSL](https://docs.microsoft.com/en-us/windows/wsl/install-win10)):\n",
    "```\n",
    "/usr/bin/python3 -m pip install --upgrade pip\n",
    "pip install --upgrade jupyter numpy scipy matplotlib jax jaxlib\n",
    "jupyter nbextension enable --py widgetsnbextension  # necessary for interactive sliders to show up\n",
    "jupyter notebook  # from the directory of this notebook\n",
    "```\n",
    "Alternatively, view this notebook on [Google Colab](https://colab.research.google.com/github/StanfordASL/AA203-Examples/blob/master/Lecture-5/Free%20Final%20Time%20Problem.ipynb)."
   ]
  },
  {
   "cell_type": "code",
   "execution_count": 61,
   "id": "ca1a0327",
   "metadata": {},
   "outputs": [],
   "source": [
    "import numpy as np\n",
    "from scipy.optimize import minimize, Bounds\n",
    "from scipy.integrate import solve_bvp"
   ]
  },
  {
   "cell_type": "markdown",
   "id": "212a9cb4",
   "metadata": {},
   "source": [
    "## [Closed-form solution](https://www.wolframcloud.com/obj/schmrlng/Published/Optimal%20Control%20Example%20%28Free%20Final%20Time%29.nb)"
   ]
  },
  {
   "cell_type": "code",
   "execution_count": 62,
   "id": "93e37a67",
   "metadata": {},
   "outputs": [
    {
     "data": {
      "text/plain": [
       "4.477694926940431"
      ]
     },
     "execution_count": 62,
     "metadata": {},
     "output_type": "execute_result"
    }
   ],
   "source": [
    "def free_final_time_analytical(a=1.0, b=1.0):\n",
    "    # Closed-form solution for optimal final time.\n",
    "    # See https://www.wolframcloud.com/obj/schmrlng/Published/Optimal%20Control%20Example%20%28Free%20Final%20Time%29.nb\n",
    "    return (1800 * b / a)**(1 / 5)\n",
    "\n",
    "\n",
    "free_final_time_analytical()"
   ]
  },
  {
   "attachments": {},
   "cell_type": "markdown",
   "id": "ef87432c",
   "metadata": {},
   "source": [
    "## Simple example solving the two-point boundary value problem"
   ]
  },
  {
   "cell_type": "code",
   "execution_count": 104,
   "id": "04b8b9d6",
   "metadata": {},
   "outputs": [
    {
     "name": "stdout",
     "output_type": "stream",
     "text": [
      "       message: The algorithm converged to the desired accuracy.\n",
      "       success: True\n",
      "        status: 0\n",
      "             x: [ 0.000e+00  2.500e-01 ...  3.667e+00  4.000e+00]\n",
      "           sol: <scipy.interpolate._interpolate.PPoly object at 0x30c4c77e0>\n",
      "             p: None\n",
      "             y: [[ 0.000e+00  5.114e-01 ... -1.136e+00 -2.000e+00]\n",
      "                 [ 2.067e+00  2.003e+00 ... -2.358e+00 -2.876e+00]]\n",
      "            yp: [[ 2.067e+00  2.003e+00 ... -2.358e+00 -2.876e+00]\n",
      "                 [-0.000e+00 -5.114e-01 ... -1.136e+00 -2.000e+00]]\n",
      " rms_residuals: [ 1.504e-04  1.021e-04 ...  2.797e-04  2.387e-04]\n",
      "         niter: 7\n"
     ]
    },
    {
     "data": {
      "image/png": "[encoded data removed]",
      "text/plain": [
       "<Figure size 640x480 with 1 Axes>"
      ]
     },
     "metadata": {},
     "output_type": "display_data"
    }
   ],
   "source": [
    "import numpy as np\n",
    "from scipy.integrate import solve_bvp\n",
    "import matplotlib.pyplot as plt\n",
    "\n",
    "def ode(t, z):\n",
    "    return np.vstack((z[1], -np.abs(z[0])))\n",
    "\n",
    "def bc(za, zb):\n",
    "    return np.array([za[0], zb[0] + 2])\n",
    "\n",
    "t_mesh = np.linspace(0, 4, 5)\n",
    "z_guess = np.zeros((2, len(t_mesh)))\n",
    "\n",
    "sol = solve_bvp(ode, bc, t_mesh, z_guess)\n",
    "print(sol)\n",
    "\n",
    "x_plot = np.linspace(0, 4, 100)\n",
    "z_plot = sol.sol(x_plot)\n",
    "\n",
    "plt.plot(x_plot, z_plot[0], label=r\"$z_1$\")\n",
    "plt.plot(x_plot, z_plot[1], label=r\"$z_2$\")\n",
    "plt.legend()\n",
    "plt.show()\n"
   ]
  },
  {
   "cell_type": "markdown",
   "id": "471a1bc2",
   "metadata": {},
   "source": [
    "## Two-point boundary value problem solver"
   ]
  },
  {
   "cell_type": "code",
   "execution_count": 94,
   "id": "81293271",
   "metadata": {},
   "outputs": [],
   "source": [
    "def free_final_time_2pbvp(a=1.0, b=1.0, N=20):\n",
    "    # Indirect method (solving a two-point boundary value problem).\n",
    "\n",
    "    def ode(t, x_p_tf):\n",
    "        x1, x2, p1, p2, tf = x_p_tf\n",
    "        return tf * np.array([x2, -p2 / b, np.zeros_like(t), -p1, np.zeros_like(t)])\n",
    "\n",
    "    def boundary_conditions(x_p_tf_0, x_p_tf_N):\n",
    "        x1_0, x2_0, p1_0, p2_0, tf_0 = x_p_tf_0\n",
    "        x1_N, x2_N, p1_N, p2_N, tf_N = x_p_tf_N\n",
    "        return np.array([x1_0 - 10, x2_0, x1_N, x2_N, a * tf_N - p2_N**2 / (2 * b)])\n",
    "\n",
    "    return solve_bvp(\n",
    "        fun=ode, \n",
    "        bc=boundary_conditions, \n",
    "        x=np.linspace(0, 1, N + 1),\n",
    "        y=np.array([np.linspace(10, 0, N + 1),\n",
    "                  np.zeros(N + 1),\n",
    "                  np.zeros(N + 1),\n",
    "                  np.zeros(N + 1),\n",
    "                  np.ones(N + 1)]))"
   ]
  },
  {
   "cell_type": "code",
   "execution_count": 95,
   "id": "abb6af3e",
   "metadata": {},
   "outputs": [
    {
     "data": {
      "text/plain": [
       "       message: The algorithm converged to the desired accuracy.\n",
       "       success: True\n",
       "        status: 0\n",
       "             x: [ 0.000e+00  1.667e-02 ...  9.833e-01  1.000e+00]\n",
       "           sol: <scipy.interpolate._interpolate.PPoly object at 0x30d4f4d60>\n",
       "             p: None\n",
       "             y: [[ 1.000e+01  9.992e+00 ...  8.241e-03  0.000e+00]\n",
       "                 [-1.185e-19 -2.196e-01 ... -2.196e-01  0.000e+00]\n",
       "                 ...\n",
       "                 [ 2.993e+00  2.893e+00 ... -2.893e+00 -2.993e+00]\n",
       "                 [ 4.478e+00  4.478e+00 ...  4.478e+00  4.478e+00]]\n",
       "            yp: [[-5.306e-19 -9.833e-01 ... -9.833e-01  0.000e+00]\n",
       "                 [-1.340e+01 -1.295e+01 ...  1.295e+01  1.340e+01]\n",
       "                 ...\n",
       "                 [-5.985e+00 -5.985e+00 ... -5.985e+00 -5.985e+00]\n",
       "                 [ 0.000e+00  0.000e+00 ...  0.000e+00  0.000e+00]]\n",
       " rms_residuals: [ 3.002e-05  3.003e-05 ...  3.003e-05  3.002e-05]\n",
       "         niter: 2"
      ]
     },
     "execution_count": 95,
     "metadata": {},
     "output_type": "execute_result"
    }
   ],
   "source": [
    "free_final_time_2pbvp()"
   ]
  },
  {
   "cell_type": "code",
   "execution_count": 123,
   "id": "3fbef2e4",
   "metadata": {},
   "outputs": [
    {
     "data": {
      "text/plain": [
       "array([4.47772199, 4.47772199, 4.47772199, 4.47772199, 4.47772199,\n",
       "       4.47772199, 4.47772199, 4.47772199, 4.47772199, 4.47772199,\n",
       "       4.47772199, 4.47772199, 4.47772199, 4.47772199, 4.47772199,\n",
       "       4.47772199, 4.47772199, 4.47772199, 4.47772199, 4.47772199,\n",
       "       4.47772199, 4.47772199, 4.47772199, 4.47772199, 4.47772199,\n",
       "       4.47772199, 4.47772199, 4.47772199, 4.47772199, 4.47772199,\n",
       "       4.47772199, 4.47772199, 4.47772199, 4.47772199, 4.47772199,\n",
       "       4.47772199, 4.47772199, 4.47772199, 4.47772199, 4.47772199,\n",
       "       4.47772199, 4.47772199, 4.47772199, 4.47772199, 4.47772199,\n",
       "       4.47772199, 4.47772199, 4.47772199, 4.47772199, 4.47772199,\n",
       "       4.47772199, 4.47772199, 4.47772199, 4.47772199, 4.47772199,\n",
       "       4.47772199, 4.47772199, 4.47772199, 4.47772199])"
      ]
     },
     "execution_count": 123,
     "metadata": {},
     "output_type": "execute_result"
    }
   ],
   "source": [
    "free_final_time_2pbvp().y[-1]"
   ]
  },
  {
   "attachments": {},
   "cell_type": "markdown",
   "id": "63861975",
   "metadata": {},
   "source": [
    "## Exploring indirect single shooting"
   ]
  },
  {
   "cell_type": "code",
   "execution_count": 70,
   "id": "dff52c04",
   "metadata": {},
   "outputs": [],
   "source": [
    "import jax\n",
    "import jax.numpy as jnp\n",
    "import matplotlib.pyplot as plt\n",
    "from jax.experimental.ode import odeint\n",
    "\n",
    "from ipywidgets import interact"
   ]
  },
  {
   "cell_type": "code",
   "execution_count": 71,
   "id": "3e7b0bdb",
   "metadata": {},
   "outputs": [],
   "source": [
    "def indirect_single_shooting_error(initial_costate_and_final_time, a=1.0, b=1.0):\n",
    "    initial_state = np.array([10., 0.])\n",
    "    initial_costate = initial_costate_and_final_time[:-1]\n",
    "    final_time = initial_costate_and_final_time[-1]\n",
    "\n",
    "    def shooting_ode(state_costate, t):\n",
    "        (x1, x2), (p1, p2) = state_costate\n",
    "        return jnp.array([x2, -p2 / b, 0, -p1])\n",
    "\n",
    "    states, costates = odeint(shooting_ode, (initial_state, initial_costate), jnp.array([0, final_time]))\n",
    "    return jnp.linalg.norm(jnp.append(states[-1], -costates[-1, 1]**2 / (2 * b) +  a * final_time))"
   ]
  },
  {
   "cell_type": "code",
   "execution_count": 72,
   "id": "dcf30800",
   "metadata": {},
   "outputs": [
    {
     "data": {
      "application/vnd.jupyter.widget-view+json": {
       "model_id": "ac32a8e473024cdfa9e84d94567604bb",
       "version_major": 2,
       "version_minor": 0
      },
      "text/plain": [
       "interactive(children=(FloatSlider(value=4.05, description='final_time', max=8.0, min=0.1), Output()), _dom_cla…"
      ]
     },
     "metadata": {},
     "output_type": "display_data"
    }
   ],
   "source": [
    "vv_indirect_single_shooting_error = jax.jit(jax.vmap(jax.vmap(indirect_single_shooting_error)))\n",
    "X, Y = np.meshgrid(np.linspace(-4, 8, 100), np.linspace(-4, 8, 100))\n",
    "\n",
    "\n",
    "@interact\n",
    "def plot_slice(final_time=(0.1, 8.0)):\n",
    "    plt.figure(figsize=(12, 10))\n",
    "    plt.contourf(X,\n",
    "                 Y,\n",
    "                #  vv_indirect_single_shooting_error(np.stack([X, Y, final_time * np.ones_like(X)], -1)))\n",
    "                 np.log(1 + vv_indirect_single_shooting_error(np.stack([X, Y, final_time * np.ones_like(X)], -1))),\n",
    "                 levels=40,\n",
    "                 vmin=0,\n",
    "                 vmax=10)\n",
    "    plt.colorbar()"
   ]
  },
  {
   "cell_type": "code",
   "execution_count": null,
   "id": "5b0ec4f0",
   "metadata": {},
   "outputs": [],
   "source": []
  }
 ],
 "metadata": {
  "kernelspec": {
   "display_name": "Python 3",
   "language": "python",
   "name": "python3"
  },
  "language_info": {
   "codemirror_mode": {
    "name": "ipython",
    "version": 3
   },
   "file_extension": ".py",
   "mimetype": "text/x-python",
   "name": "python",
   "nbconvert_exporter": "python",
   "pygments_lexer": "ipython3",
   "version": "3.10.10"
  },
  "vscode": {
   "interpreter": {
    "hash": "bda33b16be7e844498c7c2d368d72665b4f1d165582b9547ed22a0249a29ca2e"
   }
  }
 },
 "nbformat": 4,
 "nbformat_minor": 5
}
