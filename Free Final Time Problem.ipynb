{
 "cells": [
  {
   "cell_type": "markdown",
   "metadata": {},
   "source": [
    "# Setup\n",
    "\n",
    "Dependencies:\n",
    "- System: python3\n",
    "- Python: jupyter, numpy, scipy, jax, matplotlib\n",
    "\n",
    "Example setup for a Ubuntu system (Mac users, maybe `brew` instead of `sudo apt`; Windows users, learn to love [WSL](https://docs.microsoft.com/en-us/windows/wsl/install-win10)):\n",
    "```\n",
    "/usr/bin/python3 -m pip install --upgrade pip\n",
    "pip install --upgrade jupyter numpy scipy matplotlib jax jaxlib\n",
    "jupyter nbextension enable --py widgetsnbextension  # necessary for interactive sliders to show up\n",
    "jupyter notebook  # from the directory of this notebook\n",
    "```\n",
    "Alternatively, view this notebook on [Google Colab](https://colab.research.google.com/github/StanfordASL/AA203-Examples/blob/master/Lecture-5/Free%20Final%20Time%20Problem.ipynb)."
   ]
  },
  {
   "cell_type": "code",
   "execution_count": null,
   "metadata": {},
   "outputs": [],
   "source": [
    "import numpy as np\n",
    "from scipy.optimize import minimize, Bounds\n",
    "from scipy.integrate import solve_bvp"
   ]
  },
  {
   "cell_type": "markdown",
   "metadata": {},
   "source": [
    "## [Closed-form solution](https://www.wolframcloud.com/obj/schmrlng/Published/Optimal%20Control%20Example%20%28Free%20Final%20Time%29.nb)"
   ]
  },
  {
   "cell_type": "code",
   "execution_count": null,
   "metadata": {},
   "outputs": [],
   "source": [
    "def free_final_time_analytical(a=1.0, b=1.0):\n",
    "    # Closed-form solution for optimal final time.\n",
    "    # See https://www.wolframcloud.com/obj/schmrlng/Published/Optimal%20Control%20Example%20%28Free%20Final%20Time%29.nb\n",
    "    return (1800 * b / a)**(1 / 5)\n",
    "\n",
    "\n",
    "free_final_time_analytical()"
   ]
  },
  {
   "cell_type": "markdown",
   "metadata": {},
   "source": [
    "## Two-point boundary value problem solver"
   ]
  },
  {
   "cell_type": "code",
   "execution_count": null,
   "metadata": {},
   "outputs": [],
   "source": [
    "def free_final_time_2pbvp(a=1.0, b=1.0, N=20):\n",
    "    # Indirect method (solving a two-point boundary value problem).\n",
    "\n",
    "    def ode(t, x_p_tf):\n",
    "        x1, x2, p1, p2, tf = x_p_tf\n",
    "        return tf * np.array([x2, -p2 / b, np.zeros_like(t), -p1, np.zeros_like(t)])\n",
    "\n",
    "    def boundary_conditions(x_p_tf_0, x_p_tf_N):\n",
    "        x1_0, x2_0, p1_0, p2_0, tf_0 = x_p_tf_0\n",
    "        x1_N, x2_N, p1_N, p2_N, tf_N = x_p_tf_N\n",
    "        return np.array([x1_0 - 10, x2_0, x1_N, x2_N, a * tf_0 - p2_0**2 / (2 * b)])\n",
    "\n",
    "    return solve_bvp(\n",
    "        ode, boundary_conditions, np.linspace(0, 1, N + 1),\n",
    "        np.array([np.linspace(10, 0, N + 1),\n",
    "                  np.zeros(N + 1),\n",
    "                  np.zeros(N + 1),\n",
    "                  np.zeros(N + 1),\n",
    "                  np.ones(N + 1)]))"
   ]
  },
  {
   "cell_type": "code",
   "execution_count": null,
   "metadata": {},
   "outputs": [],
   "source": [
    "free_final_time_2pbvp()"
   ]
  },
  {
   "cell_type": "code",
   "execution_count": null,
   "metadata": {},
   "outputs": [],
   "source": [
    "free_final_time_2pbvp().y[-1]"
   ]
  },
  {
   "cell_type": "markdown",
   "metadata": {},
   "source": [
    "## Exploring indirect single shooting (see also HW1P5)"
   ]
  },
  {
   "cell_type": "code",
   "execution_count": null,
   "metadata": {},
   "outputs": [],
   "source": [
    "import jax\n",
    "import jax.numpy as jnp\n",
    "import matplotlib.pyplot as plt\n",
    "from jax.experimental.ode import odeint\n",
    "\n",
    "from ipywidgets import interact"
   ]
  },
  {
   "cell_type": "code",
   "execution_count": null,
   "metadata": {},
   "outputs": [],
   "source": [
    "def indirect_single_shooting_error(initial_costate_and_final_time, a=1.0, b=1.0):\n",
    "    initial_state = np.array([10., 0.])\n",
    "    initial_costate = initial_costate_and_final_time[:-1]\n",
    "    final_time = initial_costate_and_final_time[-1]\n",
    "\n",
    "    def shooting_ode(state_costate, t):\n",
    "        (x1, x2), (p1, p2) = state_costate\n",
    "        return jnp.array([x2, -p2 / b, 0, -p1])\n",
    "\n",
    "    states, costates = odeint(shooting_ode, (initial_state, initial_costate), jnp.array([0, final_time]))\n",
    "    return jnp.linalg.norm(jnp.append(states[-1], -costates[-1, 1]**2 / (2 * b) + a * final_time))"
   ]
  },
  {
   "cell_type": "code",
   "execution_count": null,
   "metadata": {},
   "outputs": [],
   "source": [
    "vv_indirect_single_shooting_error = jax.jit(jax.vmap(jax.vmap(indirect_single_shooting_error)))\n",
    "X, Y = np.meshgrid(np.linspace(-4, 8, 100), np.linspace(-4, 8, 100))\n",
    "\n",
    "\n",
    "@interact\n",
    "def plot_slice(final_time=(0.1, 8.0)):\n",
    "    plt.figure(figsize=(12, 10))\n",
    "    plt.contourf(X,\n",
    "                 Y,\n",
    "#                  vv_indirect_single_shooting_error(np.stack([X, Y, final_time * np.ones_like(X)], -1)))\n",
    "                 np.log(1 + vv_indirect_single_shooting_error(np.stack([X, Y, final_time * np.ones_like(X)], -1))),\n",
    "                 levels=40,\n",
    "                 vmin=0,\n",
    "                 vmax=10)\n",
    "    plt.colorbar()"
   ]
  },
  {
   "cell_type": "markdown",
   "metadata": {},
   "source": [
    "## Direct single shooting"
   ]
  },
  {
   "cell_type": "code",
   "execution_count": null,
   "metadata": {},
   "outputs": [],
   "source": [
    "def free_final_time_shooting(a=1.0, b=1.0, N=20):\n",
    "    # Direct method (specifically, a shooting method).\n",
    "    x0 = np.array([10., 0.])\n",
    "    xf = np.zeros(2)\n",
    "\n",
    "    def cost(tf_u):\n",
    "        tf, u = tf_u[0], tf_u[1:]\n",
    "        dt = tf / N\n",
    "        return 0.5 * (a * tf**2 + b * dt * np.sum(u**2))\n",
    "\n",
    "    def terminal_constraint(tf_u):\n",
    "        tf, u = tf_u[0], tf_u[1:]\n",
    "        dt = tf / N\n",
    "        x = x0\n",
    "        for ui in u:\n",
    "            x = np.array([x[0] + x[1] * dt + 0.5 * ui * dt**2, x[1] + ui * dt])\n",
    "        return x - xf\n",
    "\n",
    "    tf_u = np.concatenate([np.ones(1), np.zeros(N)])\n",
    "    return minimize(cost,\n",
    "                    tf_u,\n",
    "                    bounds=Bounds(np.concatenate([np.zeros(1), -np.inf * np.ones(N)]), np.inf * np.ones(N + 1)),\n",
    "                    constraints={\n",
    "                        'type': 'eq',\n",
    "                        'fun': terminal_constraint\n",
    "                    },\n",
    "                    options={'maxiter': 1000})"
   ]
  },
  {
   "cell_type": "code",
   "execution_count": null,
   "metadata": {},
   "outputs": [],
   "source": [
    "free_final_time_shooting()"
   ]
  },
  {
   "cell_type": "code",
   "execution_count": null,
   "metadata": {},
   "outputs": [],
   "source": [
    "free_final_time_shooting().x[0]"
   ]
  },
  {
   "cell_type": "code",
   "execution_count": null,
   "metadata": {},
   "outputs": [],
   "source": []
  }
 ],
 "metadata": {
  "kernelspec": {
   "display_name": "Python 3",
   "language": "python",
   "name": "python3"
  },
  "language_info": {
   "codemirror_mode": {
    "name": "ipython",
    "version": 3
   },
   "file_extension": ".py",
   "mimetype": "text/x-python",
   "name": "python",
   "nbconvert_exporter": "python",
   "pygments_lexer": "ipython3",
   "version": "3.8.10"
  }
 },
 "nbformat": 4,
 "nbformat_minor": 5
}
