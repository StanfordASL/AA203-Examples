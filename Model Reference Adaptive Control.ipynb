{
 "cells": [
  {
   "cell_type": "markdown",
   "metadata": {},
   "source": [
    "# Setup\n",
    "\n",
    "Dependencies:\n",
    "- System: python3\n",
    "- Python: jupyter, matplotlib, numpy, scipy\n",
    "\n",
    "Example setup for a Ubuntu system (Mac users, maybe `brew` instead of `sudo apt`; Windows users, learn to love [WSL](https://docs.microsoft.com/en-us/windows/wsl/install-win10)):\n",
    "```\n",
    "/usr/bin/python3 -m pip install --upgrade pip\n",
    "pip install --upgrade jupyter matplotlib numpy scipy\n",
    "jupyter nbextension enable --py widgetsnbextension  # necessary for interactive sliders to show up\n",
    "jupyter notebook  # from the directory of this notebook\n",
    "```\n",
    "Alternatively, view this notebook on [Google Colab](https://colab.research.google.com/github/StanfordASL/AA203-Examples/blob/master/Lecture-2/Model%20Reference%20Adaptive%20Control.ipynb)."
   ]
  },
  {
   "cell_type": "code",
   "execution_count": null,
   "metadata": {},
   "outputs": [],
   "source": [
    "import matplotlib.pyplot as plt\n",
    "import numpy as np\n",
    "from scipy.integrate import solve_ivp\n",
    "\n",
    "from ipywidgets import interact"
   ]
  },
  {
   "cell_type": "code",
   "execution_count": null,
   "metadata": {},
   "outputs": [],
   "source": [
    "def step(t):\n",
    "    return np.ones_like(t)\n",
    "\n",
    "\n",
    "def sinusoidal(t):\n",
    "    return np.sin(t / 3)\n",
    "\n",
    "\n",
    "def simulate_mrac(m_hat_0=0.5, reference_signal=step, time_horizon=20.):\n",
    "    # True mass.\n",
    "    m = 1.\n",
    "\n",
    "    # Ideal response gains.\n",
    "    k_d = k_p = k = 1.\n",
    "\n",
    "    # Adaptation gains.\n",
    "    λ = 1.\n",
    "    γ = 1.\n",
    "\n",
    "    def simulation_ode(t, state_refstate_mhat):\n",
    "        x, dx, x_m, dx_m, m_hat = state_refstate_mhat\n",
    "        ddx_m = k * reference_signal(t) - k_d * dx_m - k_p * x_m\n",
    "        s = (dx - dx_m) + λ * (x - x_m)\n",
    "        ν = ddx_m - 2 * λ * (dx - dx_m) - λ**2 * (x - x_m)\n",
    "        u = m_hat * ν\n",
    "        return np.array([dx, u / m, dx_m, ddx_m, -γ * ν * s])\n",
    "\n",
    "    sol = solve_ivp(simulation_ode, (0., time_horizon),\n",
    "                    np.array([0., 0., 0., 0., m_hat_0]),\n",
    "                    t_eval=np.linspace(0, time_horizon, 400))\n",
    "\n",
    "    plt.figure(figsize=(20, 10))\n",
    "    plt.plot(sol.t, sol.y.T, label=[\"x\", \"ẋ\", \"xₘ\", \"ẋₘ\", \"m̂\"])\n",
    "    plt.plot(sol.t, reference_signal(sol.t), \"--\", label=\"reference\")\n",
    "\n",
    "    x, dx, x_m, dx_m, m_hat = sol.y\n",
    "    s = (dx - dx_m) + λ * (x - x_m)\n",
    "    plt.plot(sol.t, (m * s**2 + (m - m_hat)**2 / γ) / 2, \"--\", label=\"V\")\n",
    "    plt.plot(sol.t, np.hypot(x - x_m, dx - dx_m), \"--\", label=\"state_error\")\n",
    "    plt.legend(fontsize=20)"
   ]
  },
  {
   "cell_type": "code",
   "execution_count": null,
   "metadata": {},
   "outputs": [],
   "source": [
    "interact(simulate_mrac, m_hat_0=(0.1, 2.0), reference_signal=[step, sinusoidal], time_horizon=[20, 100, 1000])"
   ]
  },
  {
   "cell_type": "code",
   "execution_count": null,
   "metadata": {},
   "outputs": [],
   "source": []
  }
 ],
 "metadata": {
  "kernelspec": {
   "display_name": "Python 3",
   "language": "python",
   "name": "python3"
  },
  "language_info": {
   "codemirror_mode": {
    "name": "ipython",
    "version": 3
   },
   "file_extension": ".py",
   "mimetype": "text/x-python",
   "name": "python",
   "nbconvert_exporter": "python",
   "pygments_lexer": "ipython3",
   "version": "3.8.10"
  }
 },
 "nbformat": 4,
 "nbformat_minor": 4
}
